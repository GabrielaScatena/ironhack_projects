{
 "cells": [
  {
   "cell_type": "markdown",
   "metadata": {},
   "source": [
    "Dataset research:"
   ]
  },
  {
   "cell_type": "markdown",
   "metadata": {},
   "source": [
    "\n",
    "    \n",
    "https://www.researchgate.net/publication/325285210_GamingVideoSET_A_Dataset_for_Gaming_Video_Streaming_Applications\n",
    "    \n",
    "https://www.kaggle.com/tamber/steam-video-games (the one that i actually use)\n",
    "    \n",
    "https://www.kaggle.com/trolukovich/steam-games-complete-dataset (price of the games and date of release)\n",
    "\n",
    "https://www.kaggle.com/xelav7/steameda\n",
    "\n",
    "https://www.kaggle.com/nikdavis/steam-store-games#steam.csv (data about the games: the release part can help to understand the evolution of the 'best' - most played games - 3 games por example.)\n",
    "    \n",
    "https://www.kaggle.com/jzdsml/ds-visualization-of-data-from-twitch/comments#516792 (abou the games - most playful - and countries)\n",
    "\n",
    "#this is about the streamer:\n",
    "https://clivecast.github.io/\n",
    "https://www.kaggle.com/keiichicomplex/twitch-small-panel-results/kernels\n",
    "    \n",
    "    \n",
    "Referência: https://nik-davis.github.io/posts/2019/steam-data-collection/\n",
    "\n",
    "https://www.kaggle.com/andreagarritano/twitch-social-networks#DE_edges.csv (dataset)\n",
    "https://www.kaggle.com/andreagarritano/twitch-social-networks/kernels\n",
    "    \n",
    "These datasets used for node classification and transfer learning are Twitch user-user networks of gamers who stream in a certain \n",
    "language. Nodes are the users themselves and the links are mutual friendships between them. Vertex features are extracted based on \n",
    "the games played and liked, location and streaming habits. Datasets share the same set of node features, this makes transfer learning across networks possible. \n",
    "These social networks were collected in May 2018. The supervised task related to these networks is binary node classification - one has to predict whether a streamer \n",
    "uses explicit language.\n",
    "\n",
    "\n",
    "\n",
    "twitch API: 79myxq41cwlpcrqw0vpp6yo6a0b6pw\n",
    "\n",
    "    \n"
   ]
  },
  {
   "cell_type": "markdown",
   "metadata": {},
   "source": [
    "Datasets choosen:"
   ]
  },
  {
   "cell_type": "markdown",
   "metadata": {},
   "source": [
    "\n",
    "https://www.kaggle.com/trolukovich/steam-games-complete-dataset (price of the games and date of release)\n",
    "\n",
    "This dataset is a list of user behaviors, with columns: \n",
    "user-id, game-title, behavior-name, value. The behaviors included are 'purchase' and 'play'. \n",
    "The value indicates the degree to which the behavior was performed - in the case of 'purchase' the value is always 1, \n",
    "and in the case of 'play' the value represents the number of hours the user has played the game.\n",
    "\n",
    "\n",
    "https://www.kaggle.com/nikdavis/steam-store-games#steam.csv (data about the games: the release part can help to understand the evolution of the 'best' - most played games - 3 games por example.)\n",
    "\n",
    "https://www.canva.com/design/DAD1D_OdT2E/AC0kp4nK7pSbizdBcWw00w/edit?category=tACFasDnyEQ app"
   ]
  },
  {
   "cell_type": "code",
   "execution_count": null,
   "metadata": {},
   "outputs": [],
   "source": [
    "#day 1 :\n",
    "\n",
    "Cleaning and Manipulation:\n",
    "\n",
    "# Shape: (200000, 5)\n",
    "# Unique - User id: 12.393\n",
    "# Unique Game Title: 5.155\n"
   ]
  },
  {
   "cell_type": "code",
   "execution_count": null,
   "metadata": {},
   "outputs": [],
   "source": [
    "#Day 2:\n",
    "\n",
    "#Starting the day with my discovers (recap):\n",
    "\n",
    "About the Id and purchase:\n",
    "\n",
    "- We have one id (62990992) responsable for 1.075 games bought (our max on the dataset), Std of 35.864269.\n",
    "\n",
    "- Our mean is a little bit more than 10 games bought per person and 75% of our sample is inside the number of 6 games per person.\n",
    "\n",
    "About the Id and hours playng:\n",
    "    \n",
    "- We have one id (73017395) responsable for 11754.0 hours playing (or 489.75 days) (our max on the dataset).\n",
    "And spend this in only one game (had only 1 purchase) - usar a data do release para entender mais\n",
    "\n",
    "- Our mean is of ours playing is 303.556458 hours, but 50% of ours sample is about 19.5 hours. Whem que take the 75%, goes to 198.975\n",
    "And we have a huge std deviation: 789.541803\n",
    "    \n",
    "Correlation:    \n",
    "- Between hours playing x quantity of purchase,  it looks that it doesn´t have a relation actualy.\n",
    "\n",
    "- The most purchased games are the most played in term of hours\n",
    "\n",
    "Best Games in terns of hours played:\n",
    "\n",
    "Hours\tpurchase\n",
    "game-title\t\t\n",
    "Dota 2\t986525.6\t4841\n",
    "Counter-Strike Global Offensive\t324183.6\t1412\n",
    "Team Fortress 2\t175996.3\t2323\n",
    "Counter-Strike\t135117.1\t856\n",
    "Sid Meier's Civilization V\t100417.3\t596\n",
    "Counter-Strike Source\t97053.5\t978\n",
    "The Elder Scrolls V Skyrim\t71606.3\t717\n",
    "Garry's Mod \t50456.3 \t731\n",
    "Call of Duty Modern Warfare 2 - Multiplayer\t42352.9\t343\n",
    "Left 4 Dead 2\t34547.7\t951\n",
    "\n",
    "# Cristina helped me to understand that i can have game purchased but not played:\n",
    "\n",
    "12393 ids:\n",
    "\n",
    "129511 purchases:\n",
    "\n",
    "70489 play (hours playing)\n",
    "\n",
    "5.155 title-games\n",
    "\n",
    "#after clean:\n",
    "\n",
    "- 1.555 zeros - games that was purchased but no played\n",
    "\n"
   ]
  }
 ],
 "metadata": {
  "kernelspec": {
   "display_name": "Python 3",
   "language": "python",
   "name": "python3"
  },
  "language_info": {
   "codemirror_mode": {
    "name": "ipython",
    "version": 3
   },
   "file_extension": ".py",
   "mimetype": "text/x-python",
   "name": "python",
   "nbconvert_exporter": "python",
   "pygments_lexer": "ipython3",
   "version": "3.6.10"
  }
 },
 "nbformat": 4,
 "nbformat_minor": 4
}
