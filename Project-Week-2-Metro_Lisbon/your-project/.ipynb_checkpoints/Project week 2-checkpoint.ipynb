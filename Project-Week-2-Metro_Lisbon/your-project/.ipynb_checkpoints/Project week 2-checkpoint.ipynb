{
 "cells": [
  {
   "cell_type": "code",
   "execution_count": 1,
   "metadata": {},
   "outputs": [],
   "source": [
    "\n",
    "import pandas as pd\n",
    "import numpy as np\n",
    "\n",
    "\n",
    "\n"
   ]
  },
  {
   "cell_type": "markdown",
   "metadata": {},
   "source": [
    "Mobilidade:\n",
    "\n",
    "1 - Pergunta: possibilidade de dimunir o tempo de intervalo entre os trens: o quanto aumentaria de tempo \"útil na vida das pessoas\" em um ano.\n",
    "Data set: Informação sobre intervalos entre comboios, paragens, carreiras, percursos e tempos de percurso do Metropolitano de Lisboa.:\n",
    "\n",
    "2-Pergunta: A circulação de transportes publicos está mais comprometida por causa dos estacionamentos? a ocorrencia estimula a utilização de transportes privados ocasionando transito?\n",
    "Data set Emel: Descrição de lugares de estacionamento de via pública em exploração pela EMEL\n",
    "emel-lugares-de-estacionamento-via-publica\n",
    "\n",
    "3 - ciclovia - mobilidade urbana\n",
    "https://opendata.arcgis.com/datasets/440b7424a6284e0b9bf11179b95bf8d1_0.geojson\n"
   ]
  },
  {
   "cell_type": "code",
   "execution_count": 3,
   "metadata": {},
   "outputs": [
    {
     "ename": "NameError",
     "evalue": "name 'network' is not defined",
     "output_type": "error",
     "traceback": [
      "\u001b[1;31m---------------------------------------------------------------------------\u001b[0m",
      "\u001b[1;31mNameError\u001b[0m                                 Traceback (most recent call last)",
      "\u001b[1;32m<ipython-input-3-abdc0bf6110f>\u001b[0m in \u001b[0;36m<module>\u001b[1;34m()\u001b[0m\n\u001b[1;32m----> 1\u001b[1;33m \u001b[0mnetwork\u001b[0m\u001b[1;33m=\u001b[0m\u001b[0mnetwork\u001b[0m\u001b[1;33m.\u001b[0m\u001b[0mread\u001b[0m\u001b[1;33m.\u001b[0m\u001b[0mcvs\u001b[0m\u001b[1;33m(\u001b[0m\u001b[1;34m\"network walk.cvs\"\u001b[0m\u001b[1;33m)\u001b[0m\u001b[1;33m\u001b[0m\u001b[0m\n\u001b[0m\u001b[0;32m      2\u001b[0m \u001b[0mnetwork\u001b[0m\u001b[1;33m.\u001b[0m\u001b[0mread\u001b[0m\u001b[1;33m(\u001b[0m\u001b[1;36m60\u001b[0m\u001b[1;33m)\u001b[0m\u001b[1;33m\u001b[0m\u001b[0m\n",
      "\u001b[1;31mNameError\u001b[0m: name 'network' is not defined"
     ]
    }
   ],
   "source": [
    "\n",
    "Bu-data = pd.read_csv('.csv')\n",
    "\n",
    "\n",
    "#colocar o arquivo de python na mesma pasta dos arquivos"
   ]
  }
 ],
 "metadata": {
  "kernelspec": {
   "display_name": "Python 3",
   "language": "python",
   "name": "python3"
  },
  "language_info": {
   "codemirror_mode": {
    "name": "ipython",
    "version": 3
   },
   "file_extension": ".py",
   "mimetype": "text/x-python",
   "name": "python",
   "nbconvert_exporter": "python",
   "pygments_lexer": "ipython3",
   "version": "3.6.5"
  }
 },
 "nbformat": 4,
 "nbformat_minor": 2
}
